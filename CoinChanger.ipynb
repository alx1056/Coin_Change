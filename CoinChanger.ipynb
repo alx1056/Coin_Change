{
  "nbformat": 4,
  "nbformat_minor": 0,
  "metadata": {
    "colab": {
      "name": "CoinChanger.ipynb",
      "provenance": [],
      "collapsed_sections": [],
      "authorship_tag": "ABX9TyOjQ7JI/O73KI9Od/Wp/rM7",
      "include_colab_link": true
    },
    "kernelspec": {
      "name": "python3",
      "display_name": "Python 3"
    }
  },
  "cells": [
    {
      "cell_type": "markdown",
      "metadata": {
        "id": "view-in-github",
        "colab_type": "text"
      },
      "source": [
        "<a href=\"https://colab.research.google.com/github/alx1056/Coin_Change/blob/main/CoinChanger.ipynb\" target=\"_parent\"><img src=\"https://colab.research.google.com/assets/colab-badge.svg\" alt=\"Open In Colab\"/></a>"
      ]
    },
    {
      "cell_type": "code",
      "metadata": {
        "colab": {
          "base_uri": "https://localhost:8080/"
        },
        "id": "Tzh_31A8gqWa",
        "outputId": "bdaba5db-a44c-4ade-9091-e88bbfb47c45"
      },
      "source": [
        "print(\"Welcome to the Coin changer!\")\r\n",
        "print(\"\\n\")\r\n",
        "inputs = input(\"Please enter a number of coins you would like to have divided up: \")\r\n",
        "\r\n",
        "inputs = int(inputs)\r\n",
        "\r\n",
        "nums = 0\r\n",
        "total = 0\r\n",
        "\r\n",
        "quarter = 0\r\n",
        "dime = 0\r\n",
        "nickel = 0\r\n",
        "penny = 0\r\n",
        "\r\n",
        "quarter_count = 0\r\n",
        "dime_count = 0\r\n",
        "nickel_count = 0\r\n",
        "penny_count = 0\r\n",
        "\r\n",
        "\r\n",
        "for i in range(1,inputs):\r\n",
        "    #print(i%25)\r\n",
        "    if i%25 == 0:\r\n",
        "      quarter_count += 1\r\n",
        "      quarter = quarter_count*25\r\n",
        "      nums = inputs - quarter\r\n",
        "    \r\n",
        "\r\n",
        "for i in range(1,nums + 1):\r\n",
        "    #print(i%25)\r\n",
        "    if i%10 == 0:\r\n",
        "      dime_count += 1\r\n",
        "      dime = dime_count*10\r\n",
        "      nums = nums - dime\r\n",
        "\r\n",
        "for i in range(1,nums + 1):\r\n",
        "    #print(i%25)\r\n",
        "    if i%25 == 0:\r\n",
        "      nickel_count += 1\r\n",
        "      nickel = nickel_count*5\r\n",
        "      nums = nums - nickel\r\n",
        "\r\n",
        "for i in range(1,nums + 1):\r\n",
        "    #print(i%25)\r\n",
        "    if i%1 == 0:\r\n",
        "      penny_count += 1\r\n",
        "      penny = penny_count*1\r\n",
        "      nums = nums - penny\r\n",
        "\r\n",
        "total = (penny + nickel + dime + quarter)\r\n",
        "\r\n",
        "print(\"Amount entered: \" + str(inputs))\r\n",
        "print(\"\\n\")\r\n",
        "print(\"Quarters: \" + str(quarter_count))\r\n",
        "print(\"\\n\")\r\n",
        "print(\"Dimes: \" + str(dime_count))\r\n",
        "print(\"\\n\")\r\n",
        "print(\"Nickels: \" + str(nickel_count))\r\n",
        "print(\"\\n\")\r\n",
        "print(\"Pennies: \" + str(penny_count))"
      ],
      "execution_count": 31,
      "outputs": [
        {
          "output_type": "stream",
          "text": [
            "Welcome to the Coin changer!\n",
            "\n",
            "\n",
            "Please enter a number of coins you would like to have divided up: 106\n",
            "Amount entered: 106\n",
            "\n",
            "\n",
            "Quarters: 4\n",
            "\n",
            "\n",
            "Dimes: 0\n",
            "\n",
            "\n",
            "Nickels: 0\n",
            "\n",
            "\n",
            "Pennies: 6\n"
          ],
          "name": "stdout"
        }
      ]
    },
    {
      "cell_type": "code",
      "metadata": {
        "id": "-KMs50Tth-0A"
      },
      "source": [
        ""
      ],
      "execution_count": 16,
      "outputs": []
    }
  ]
}